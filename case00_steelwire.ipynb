{
 "cells": [
  {
   "cell_type": "markdown",
   "metadata": {},
   "source": [
    "# Steel-wire data reconstruction demo\n",
    "\n",
    "Reproduce all steel-wire data figures.\n",
    "\n",
    "Tested with CIL version 21.0.0 on Linux."
   ]
  },
  {
   "cell_type": "code",
   "execution_count": null,
   "metadata": {},
   "outputs": [],
   "source": [
    "# Import all CIL components needed\n",
    "from cil.framework import ImageData, ImageGeometry\n",
    "from cil.framework import AcquisitionGeometry, AcquisitionData\n",
    "from cil.framework import BlockDataContainer\n",
    "\n",
    "from cil.optimisation.algorithms import CGLS, SIRT, GD, FISTA, PDHG\n",
    "from cil.optimisation.operators import BlockOperator, GradientOperator, IdentityOperator, \\\n",
    "                                       GradientOperator, FiniteDifferenceOperator\n",
    "from cil.optimisation.functions import IndicatorBox, MixedL21Norm, L2NormSquared, \\\n",
    "                                       BlockFunction, L1Norm, LeastSquares, \\\n",
    "                                       OperatorCompositionFunction, TotalVariation, \\\n",
    "                                       ZeroFunction\n",
    "\n",
    "# CIL Processors\n",
    "from cil.processors import CentreOfRotationCorrector, Slicer\n",
    "\n",
    "from cil.utilities.display import show2D\n",
    "\n",
    "# Import from cil.plugins.astra\n",
    "from cil.plugins.astra.processors import FBP, AstraBackProjector3D\n",
    "from cil.plugins.astra.operators import ProjectionOperator, AstraProjector3DSimple\n",
    "\n",
    "# All external imports\n",
    "import numpy as np\n",
    "import matplotlib.pyplot as plt\n",
    "import os\n",
    "import sys\n",
    "import scipy"
   ]
  },
  {
   "cell_type": "code",
   "execution_count": null,
   "metadata": {},
   "outputs": [],
   "source": [
    "from cil.utilities.dataexample import SYNCHROTRON_PARALLEL_BEAM_DATA\n",
    "data = SYNCHROTRON_PARALLEL_BEAM_DATA.get()"
   ]
  },
  {
   "cell_type": "code",
   "execution_count": null,
   "metadata": {},
   "outputs": [],
   "source": [
    "plt.figure()\n",
    "show2D(data.get_slice(angle=0),cmap='inferno',origin='upper-left')"
   ]
  },
  {
   "cell_type": "code",
   "execution_count": null,
   "metadata": {},
   "outputs": [],
   "source": [
    "data_raw20 = data.get_slice(vertical=20)\n",
    "scale = data_raw20.sum()/data_raw20.size\n",
    "print(scale)"
   ]
  },
  {
   "cell_type": "code",
   "execution_count": null,
   "metadata": {},
   "outputs": [],
   "source": [
    "data = data / scale"
   ]
  },
  {
   "cell_type": "code",
   "execution_count": null,
   "metadata": {},
   "outputs": [],
   "source": [
    "data.log(out=data)\n",
    "data *= -1"
   ]
  },
  {
   "cell_type": "code",
   "execution_count": null,
   "metadata": {},
   "outputs": [],
   "source": [
    "data = CentreOfRotationCorrector.xcorr(slice_index='centre')(data)"
   ]
  },
  {
   "cell_type": "code",
   "execution_count": null,
   "metadata": {},
   "outputs": [],
   "source": [
    "ag_create = AcquisitionGeometry.create_Parallel3D() \\\n",
    "    .set_panel(num_pixels=(160, 135)) \\\n",
    "    .set_angles(angles=np.linspace(-88.2, 91.8, 91))"
   ]
  },
  {
   "cell_type": "code",
   "execution_count": null,
   "metadata": {},
   "outputs": [],
   "source": [
    "sx = 44\n",
    "sz = 103"
   ]
  },
  {
   "cell_type": "code",
   "execution_count": null,
   "metadata": {},
   "outputs": [],
   "source": [
    "data90 = Slicer(roi={'angle':(0,90), 'horizontal': (20,140,1)})(data)"
   ]
  },
  {
   "cell_type": "code",
   "execution_count": null,
   "metadata": {},
   "outputs": [],
   "source": [
    "print(data90)"
   ]
  },
  {
   "cell_type": "code",
   "execution_count": null,
   "metadata": {},
   "outputs": [],
   "source": [
    "plt.figure()\n",
    "show2D(data90.subset(angle=0),cmap='inferno',origin='upper-left')\n",
    "\n",
    "plt.figure()\n",
    "show2D(data90.subset(vertical=sz),cmap='inferno',origin='upper-left')"
   ]
  },
  {
   "cell_type": "code",
   "execution_count": null,
   "metadata": {},
   "outputs": [],
   "source": [
    "data15 = Slicer(roi={'angle': (0,90,6)})(data90)"
   ]
  },
  {
   "cell_type": "code",
   "execution_count": null,
   "metadata": {},
   "outputs": [],
   "source": [
    "plt.figure()\n",
    "show2D(data15.subset(vertical=sz),cmap='inferno',origin='upper-left')"
   ]
  },
  {
   "cell_type": "code",
   "execution_count": null,
   "metadata": {},
   "outputs": [],
   "source": [
    "data90.reorder(order='astra')\n",
    "data15.reorder(order='astra')"
   ]
  },
  {
   "cell_type": "code",
   "execution_count": null,
   "metadata": {},
   "outputs": [],
   "source": [
    "ag = data15.geometry\n",
    "ig = ag.get_ImageGeometry()"
   ]
  },
  {
   "cell_type": "code",
   "execution_count": null,
   "metadata": {},
   "outputs": [],
   "source": [
    "recon = FBP(ig, ag, device='gpu')(data15)"
   ]
  },
  {
   "cell_type": "code",
   "execution_count": null,
   "metadata": {},
   "outputs": [],
   "source": [
    "ca1 = -0.01\n",
    "ca2 =  0.11"
   ]
  },
  {
   "cell_type": "code",
   "execution_count": null,
   "metadata": {},
   "outputs": [],
   "source": [
    "plt.figure()\n",
    "show2D(recon.get_slice(horizontal_x=sx),cmap='inferno',fix_range=(ca1,ca2),origin='upper-left')\n",
    "plt.figure()\n",
    "show2D(recon.get_slice(vertical=sz),cmap='inferno',fix_range=(ca1,ca2),origin='upper-left')"
   ]
  },
  {
   "cell_type": "code",
   "execution_count": null,
   "metadata": {},
   "outputs": [],
   "source": [
    "ag90 = data90.geometry\n",
    "recon90 = FBP(ig, ag90, device='gpu')(data90)"
   ]
  },
  {
   "cell_type": "code",
   "execution_count": null,
   "metadata": {},
   "outputs": [],
   "source": [
    "plt.figure()\n",
    "show2D(recon90.get_slice(horizontal_x=sx),cmap='inferno',fix_range=(ca1,ca2),origin='upper-left')\n",
    "plt.figure()\n",
    "show2D(recon90.get_slice(vertical=sz),cmap='inferno',fix_range=(ca1,ca2),origin='upper-left')"
   ]
  },
  {
   "cell_type": "code",
   "execution_count": null,
   "metadata": {},
   "outputs": [],
   "source": [
    "A = ProjectionOperator(ig, ag)"
   ]
  },
  {
   "cell_type": "code",
   "execution_count": null,
   "metadata": {},
   "outputs": [],
   "source": [
    "x0 = ig.allocate(0.0)\n",
    "b = data15"
   ]
  },
  {
   "cell_type": "code",
   "execution_count": null,
   "metadata": {},
   "outputs": [],
   "source": [
    "myCGLS = CGLS(x_init=x0, operator=A, data=b, max_iteration=1000)"
   ]
  },
  {
   "cell_type": "code",
   "execution_count": null,
   "metadata": {},
   "outputs": [],
   "source": [
    "myCGLS.run(2,verbose=True)"
   ]
  },
  {
   "cell_type": "code",
   "execution_count": null,
   "metadata": {},
   "outputs": [],
   "source": [
    "plt.figure()\n",
    "show2D(myCGLS.solution.get_slice(horizontal_x=sx),cmap='inferno',fix_range=(ca1,ca2),origin='upper-left')\n",
    "plt.figure()\n",
    "show2D(myCGLS.solution.get_slice(vertical=sz),cmap='inferno',fix_range=(ca1,ca2),origin='upper-left')"
   ]
  },
  {
   "cell_type": "code",
   "execution_count": null,
   "metadata": {},
   "outputs": [],
   "source": [
    "myCGLS.run(18,verbose=1)"
   ]
  },
  {
   "cell_type": "code",
   "execution_count": null,
   "metadata": {},
   "outputs": [],
   "source": [
    "plt.figure()\n",
    "show2D(myCGLS.solution.get_slice(horizontal_x=sx),cmap='inferno',fix_range=(ca1,ca2),origin='upper-left')\n",
    "plt.figure()\n",
    "show2D(myCGLS.solution.get_slice(vertical=sz),cmap='inferno',fix_range=(ca1,ca2),origin='upper-left')"
   ]
  },
  {
   "cell_type": "code",
   "execution_count": null,
   "metadata": {},
   "outputs": [],
   "source": [
    "myCGLS.run(180,verbose=True)"
   ]
  },
  {
   "cell_type": "code",
   "execution_count": null,
   "metadata": {},
   "outputs": [],
   "source": [
    "plt.figure()\n",
    "show2D(myCGLS.solution.get_slice(horizontal_x=sx),cmap='inferno',fix_range=(ca1,ca2),origin='upper-left')\n",
    "plt.figure()\n",
    "show2D(myCGLS.solution.get_slice(vertical=sz),cmap='inferno',fix_range=(ca1,ca2),origin='upper-left')"
   ]
  },
  {
   "cell_type": "code",
   "execution_count": null,
   "metadata": {},
   "outputs": [],
   "source": [
    "mySIRT = SIRT(x_init=x0, operator=A, data=b, lower=0.0, upper=0.09, tolerance=0, max_iteration=1000)\n",
    "mySIRT.run(200,verbose=1)"
   ]
  },
  {
   "cell_type": "code",
   "execution_count": null,
   "metadata": {},
   "outputs": [],
   "source": [
    "plt.figure()\n",
    "show2D(mySIRT.solution.subset(horizontal_x=sx),cmap='inferno',fix_range=(ca1,ca2),origin='upper-left')\n",
    "plt.figure()\n",
    "show2D(mySIRT.solution.subset(vertical=sz),cmap='inferno',fix_range=(ca1,ca2),origin='upper-left')"
   ]
  },
  {
   "cell_type": "code",
   "execution_count": null,
   "metadata": {},
   "outputs": [],
   "source": [
    "D = IdentityOperator(ig)\n",
    "alpha = 1.0\n",
    "\n",
    "Atilde = BlockOperator(A, alpha * D)\n",
    "z = D.range.allocate(0)\n",
    "btilde = BlockDataContainer(b, z)\n",
    "\n",
    "myTikhonovI = CGLS(x_init=x0, operator=Atilde, data=btilde, max_iteration=1000)\n",
    "myTikhonovI.run(1000,verbose=1)"
   ]
  },
  {
   "cell_type": "code",
   "execution_count": null,
   "metadata": {},
   "outputs": [],
   "source": [
    "plt.figure()\n",
    "show2D(myTikhonovI.solution.get_slice(horizontal_x=sx),cmap='inferno',fix_range=(ca1,ca2),origin='upper-left')\n",
    "plt.figure()\n",
    "show2D(myTikhonovI.solution.get_slice(vertical=sz),cmap='inferno',fix_range=(ca1,ca2),origin='upper-left')"
   ]
  },
  {
   "cell_type": "code",
   "execution_count": null,
   "metadata": {},
   "outputs": [],
   "source": [
    "D = GradientOperator(ig)\n",
    "alpha = 1.0\n",
    "\n",
    "Atilde = BlockOperator(A, alpha*D, shape=(2,1))\n",
    "btilde = BlockDataContainer(b, D.range.allocate(0))\n",
    "\n",
    "myTikhonovD = CGLS(x_init=x0, operator=Atilde, data=btilde, \\\n",
    "                   max_iteration=1000, update_objective_interval = 10)\n",
    "myTikhonovD.run(1000, verbose=1)"
   ]
  },
  {
   "cell_type": "code",
   "execution_count": null,
   "metadata": {},
   "outputs": [],
   "source": [
    "plt.figure()\n",
    "show2D(myTikhonovD.solution.get_slice(horizontal_x=sx),cmap='inferno',fix_range=(ca1,ca2),origin='upper-left')\n",
    "plt.figure()\n",
    "show2D(myTikhonovD.solution.get_slice(vertical=sz),cmap='inferno',fix_range=(ca1,ca2),origin='upper-left')"
   ]
  },
  {
   "cell_type": "code",
   "execution_count": null,
   "metadata": {},
   "outputs": [],
   "source": [
    "az = 0.1\n",
    "ay = 30\n",
    "ax = 30\n",
    "\n",
    "fdz = FiniteDifferenceOperator(ig, direction='vertical', bnd_cond='Neumann')\n",
    "fdy = FiniteDifferenceOperator(ig, direction='horizontal_y', bnd_cond='Neumann')\n",
    "fdx = FiniteDifferenceOperator(ig, direction='horizontal_x', bnd_cond='Neumann')\n",
    "\n",
    "Atilde = BlockOperator(A, ax*fdx, ay*fdy, az*fdz, shape=(4,1))\n",
    "btilde = BlockDataContainer(b, fdx.range.allocate(0.0), fdy.range.allocate(0.0), fdz.range.allocate(0.0))\n",
    "\n",
    "myTikhonovHorz = CGLS(x_init=x0, operator=Atilde, data=btilde, update_objective_interval = 10, \\\n",
    "                      max_iteration = 1000)"
   ]
  },
  {
   "cell_type": "code",
   "execution_count": null,
   "metadata": {},
   "outputs": [],
   "source": [
    "myTikhonovHorz.run(100, verbose=1)"
   ]
  },
  {
   "cell_type": "code",
   "execution_count": null,
   "metadata": {},
   "outputs": [],
   "source": [
    "plt.figure()\n",
    "show2D(myTikhonovHorz.solution.get_slice(horizontal_x=sx),cmap='inferno',fix_range=(ca1,ca2),origin='upper-left')\n",
    "plt.figure()\n",
    "show2D(myTikhonovHorz.solution.get_slice(vertical=sz),cmap='inferno',fix_range=(ca1,ca2),origin='upper-left')"
   ]
  },
  {
   "cell_type": "code",
   "execution_count": null,
   "metadata": {},
   "outputs": [],
   "source": [
    "az = 60\n",
    "ay = 0.1\n",
    "ax = 0.1\n",
    "\n",
    "Atilde = BlockOperator(A, ax*fdx, ay*fdy, az*fdz, shape=(4,1))\n",
    "btilde = BlockDataContainer(b, fdx.range.allocate(0.0), fdy.range.allocate(0.0), fdz.range.allocate(0.0))\n",
    "\n",
    "myTikhonovVert = CGLS(x_init=x0, operator=Atilde, data=btilde, update_objective_interval=10, \\\n",
    "                     max_iteration=1000)"
   ]
  },
  {
   "cell_type": "code",
   "execution_count": null,
   "metadata": {},
   "outputs": [],
   "source": [
    "myTikhonovVert.run(100, verbose=1)"
   ]
  },
  {
   "cell_type": "code",
   "execution_count": null,
   "metadata": {},
   "outputs": [],
   "source": [
    "plt.figure()\n",
    "show2D(myTikhonovVert.solution.get_slice(horizontal_x=sx),cmap='inferno',fix_range=(ca1,ca2),origin='upper-left')\n",
    "plt.figure()\n",
    "show2D(myTikhonovVert.solution.get_slice(vertical=sz),cmap='inferno',fix_range=(ca1,ca2),origin='upper-left')"
   ]
  },
  {
   "cell_type": "code",
   "execution_count": null,
   "metadata": {},
   "outputs": [],
   "source": [
    "f1 = LeastSquares(A, b)\n",
    "f2 = OperatorCompositionFunction(L2NormSquared(),D)\n",
    "f = f1 + (alpha**2)*f2\n",
    "\n",
    "myGD = GD(x_init=x0, objective_function=f, step_size=None, max_iteration=1000, update_objective_interval = 10)\n",
    "myGD.run(1000, verbose=1)"
   ]
  },
  {
   "cell_type": "code",
   "execution_count": null,
   "metadata": {},
   "outputs": [],
   "source": [
    "plt.figure()\n",
    "show2D(myGD.solution.get_slice(horizontal_x=sx),cmap='inferno',fix_range=(ca1,ca2),origin='upper-left')\n",
    "plt.figure()\n",
    "show2D(myGD.solution.get_slice(vertical=sz),cmap='inferno',fix_range=(ca1,ca2),origin='upper-left')"
   ]
  },
  {
   "cell_type": "code",
   "execution_count": null,
   "metadata": {},
   "outputs": [],
   "source": [
    "F = LeastSquares(A, b)\n",
    "G = IndicatorBox(lower=0.0)\n",
    "myFISTANN = FISTA(f=F, g=G, x_init=x0, max_iteration=1000)\n",
    "myFISTANN.run(300, verbose=1)"
   ]
  },
  {
   "cell_type": "code",
   "execution_count": null,
   "metadata": {},
   "outputs": [],
   "source": [
    "plt.figure()\n",
    "show2D(myFISTANN.solution.get_slice(horizontal_x=sx),cmap='inferno',fix_range=(ca1,ca2),origin='upper-left')\n",
    "plt.figure()\n",
    "show2D(myFISTANN.solution.get_slice(vertical=sz),cmap='inferno',fix_range=(ca1,ca2),origin='upper-left')"
   ]
  },
  {
   "cell_type": "code",
   "execution_count": null,
   "metadata": {},
   "outputs": [],
   "source": [
    "a1 = 30\n",
    "G = a1*L1Norm()\n",
    "\n",
    "myFISTAL1 = FISTA(f=F, g=G, x_init=x0, max_iteration=1000, update_objective_interval=10)"
   ]
  },
  {
   "cell_type": "code",
   "execution_count": null,
   "metadata": {},
   "outputs": [],
   "source": [
    "myFISTAL1.run(300,verbose=1)"
   ]
  },
  {
   "cell_type": "code",
   "execution_count": null,
   "metadata": {},
   "outputs": [],
   "source": [
    "plt.figure()\n",
    "show2D(myFISTAL1.solution.get_slice(horizontal_x=sx),cmap='inferno',fix_range=(ca1,ca2),origin='upper-left')\n",
    "plt.figure()\n",
    "show2D(myFISTAL1.solution.get_slice(vertical=sz),cmap='inferno',fix_range=(ca1,ca2),origin='upper-left')"
   ]
  },
  {
   "cell_type": "code",
   "execution_count": null,
   "metadata": {},
   "outputs": [],
   "source": [
    "#GTV = TotalVariation(0.02,100,1e-6)\n",
    "GTV = 0.02*TotalVariation()"
   ]
  },
  {
   "cell_type": "code",
   "execution_count": null,
   "metadata": {},
   "outputs": [],
   "source": [
    "myFISTATV = FISTA(f=F, g=GTV, x_init=x0 ,max_iteration=10000)"
   ]
  },
  {
   "cell_type": "code",
   "execution_count": null,
   "metadata": {},
   "outputs": [],
   "source": [
    "myFISTATV.run(200,verbose=1)"
   ]
  },
  {
   "cell_type": "code",
   "execution_count": null,
   "metadata": {},
   "outputs": [],
   "source": [
    "plt.figure()\n",
    "show2D(myFISTATV.solution.get_slice(horizontal_x=sx),cmap='inferno',fix_range=(ca1,ca2),origin='upper-left')\n",
    "plt.figure()\n",
    "show2D(myFISTATV.solution.get_slice(vertical=sz),cmap='inferno',fix_range=(ca1,ca2),origin='upper-left')"
   ]
  },
  {
   "cell_type": "code",
   "execution_count": null,
   "metadata": {},
   "outputs": [],
   "source": [
    "alpha = 0.02\n",
    "F = BlockFunction(L2NormSquared(b=b), alpha*MixedL21Norm())\n",
    "K = BlockOperator(A, GradientOperator(ig))\n",
    "G = ZeroFunction()\n",
    "myPDHG = PDHG(f=F, g=G, operator=K, max_iteration=10000)"
   ]
  },
  {
   "cell_type": "code",
   "execution_count": null,
   "metadata": {},
   "outputs": [],
   "source": [
    "myPDHG.run(5000,verbose=2)"
   ]
  },
  {
   "cell_type": "code",
   "execution_count": null,
   "metadata": {},
   "outputs": [],
   "source": [
    "plt.figure()\n",
    "show2D(myPDHG.solution.get_slice(horizontal_x=sx),cmap='inferno',fix_range=(ca1,ca2),origin='upper-left')\n",
    "plt.figure()\n",
    "show2D(myPDHG.solution.get_slice(vertical=sz),cmap='inferno',fix_range=(ca1,ca2),origin='upper-left')"
   ]
  },
  {
   "cell_type": "code",
   "execution_count": null,
   "metadata": {},
   "outputs": [],
   "source": [
    "plt.figure()\n",
    "plt.loglog(np.arange(1,len(myFISTATV.objective)),  myFISTATV.objective[1:])\n",
    "plt.loglog(np.arange(1,len(myPDHG.objective)),myPDHG.objective[1:])\n",
    "plt.loglog(np.arange(1,len(myPDHG.objective)),myPDHG.dual_objective[1:])\n",
    "plt.loglog(np.arange(1,len(myPDHG.objective)),np.array(myPDHG.objective[1:])-np.array(myPDHG.dual_objective[1:]))\n",
    "plt.ylim((1e0,1e5))\n",
    "plt.legend(['FISTA','PDHG primal','PDHG dual','PDHG gap'])\n",
    "plt.grid()\n",
    "plt.xlabel('Number of iterations')\n",
    "plt.ylabel('Objective value')"
   ]
  },
  {
   "cell_type": "code",
   "execution_count": null,
   "metadata": {},
   "outputs": [],
   "source": []
  }
 ],
 "metadata": {
  "kernelspec": {
   "display_name": "Python [conda env:cil0327jj]",
   "language": "python",
   "name": "conda-env-cil0327jj-py"
  },
  "language_info": {
   "codemirror_mode": {
    "name": "ipython"
   },
   "file_extension": ".py",
   "mimetype": "text/x-python",
   "name": "python",
   "nbconvert_exporter": "python"
  }
 },
 "nbformat": 4,
 "nbformat_minor": 4
}
