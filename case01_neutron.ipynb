{
 "cells": [
  {
   "cell_type": "markdown",
   "metadata": {},
   "source": [
    "## Neutron data case\n",
    "\n",
    "Tested with CIL version 21.0.0 on Linux\n",
    "\n",
    "Download the neutron data from\n",
    "https://bit.ly/2JnNRWc\n",
    "and save and unzip zip-file in same directory as this notebook."
   ]
  },
  {
   "cell_type": "code",
   "execution_count": null,
   "metadata": {},
   "outputs": [],
   "source": [
    "# All CIL components\n",
    "from cil.framework import ImageGeometry, ImageData\n",
    "from cil.framework import AcquisitionGeometry, AcquisitionData\n",
    "\n",
    "from cil.optimisation.algorithms import SIRT, CGLS, PDHG, GD\n",
    "from cil.optimisation.operators import GradientOperator, BlockOperator\n",
    "from cil.optimisation.functions import IndicatorBox, MixedL21Norm, \\\n",
    "                                       L2NormSquared, BlockFunction, \\\n",
    "                                       ZeroFunction, SmoothMixedL21Norm, \\\n",
    "                                       OperatorCompositionFunction\n",
    "\n",
    "from cil.utilities.display import show2D\n",
    "\n",
    "# CIL ASTRA plugin\n",
    "from cil.plugins.astra.processors import FBP\n",
    "from cil.plugins.astra.operators import  ProjectionOperator\n",
    "\n",
    "# CIL Processors\n",
    "from cil.processors import Slicer\n",
    "from cil.processors import MaskGenerator\n",
    "from cil.processors import Masker\n",
    "from cil.processors import TransmissionAbsorptionConverter\n",
    "\n",
    "# CIL IO\n",
    "from cil.io import TIFFStackReader\n",
    "\n",
    "# All other imports\n",
    "import numpy as np\n",
    "import matplotlib.pyplot as plt"
   ]
  },
  {
   "cell_type": "code",
   "execution_count": null,
   "metadata": {},
   "outputs": [],
   "source": [
    "# Pick slice\n",
    "slice_no = 300"
   ]
  },
  {
   "cell_type": "code",
   "execution_count": null,
   "metadata": {},
   "outputs": [],
   "source": [
    "# Data is not in a standardised format. Load in angles from text file in format provided.\n",
    "angles_file = open('imat_rod_phantom_white_beam/golden_ratio_angles.txt', 'r') \n",
    "\n",
    "angles = []\n",
    "for angle in angles_file:\n",
    "    angles.append(float(angle.strip('0')))\n",
    "angles_file.close()\n",
    "\n",
    "n_angles = 186\n",
    "angles = np.array(angles[:n_angles], dtype=np.float32)"
   ]
  },
  {
   "cell_type": "code",
   "execution_count": null,
   "metadata": {},
   "outputs": [],
   "source": [
    "# Load stack of tiffs with TIFFStackReader into NumPy array\n",
    "path = 'imat_rod_phantom_white_beam/'\n",
    "reader = TIFFStackReader(file_name=path)\n",
    "data = reader.read()"
   ]
  },
  {
   "cell_type": "code",
   "execution_count": null,
   "metadata": {},
   "outputs": [],
   "source": [
    "# Display single slice sinogram\n",
    "plt.figure()\n",
    "plt.imshow(data[:, slice_no, :],cmap='inferno')\n",
    "plt.colorbar()\n",
    "plt.show()"
   ]
  },
  {
   "cell_type": "code",
   "execution_count": null,
   "metadata": {},
   "outputs": [],
   "source": [
    "# Display single projection\n",
    "plt.figure()\n",
    "plt.imshow(data[0, :, :], cmap='inferno')\n",
    "plt.colorbar()\n",
    "plt.show()"
   ]
  },
  {
   "cell_type": "code",
   "execution_count": null,
   "metadata": {},
   "outputs": [],
   "source": [
    "# Set up geometries\n",
    "pixel_num_h = data.shape[2]\n",
    "pixel_num_v = data.shape[1]"
   ]
  },
  {
   "cell_type": "code",
   "execution_count": null,
   "metadata": {},
   "outputs": [],
   "source": [
    "ag = AcquisitionGeometry.create_Parallel3D().set_panel([pixel_num_v, pixel_num_h]).set_angles(angles=angles)"
   ]
  },
  {
   "cell_type": "code",
   "execution_count": null,
   "metadata": {},
   "outputs": [],
   "source": [
    "# Create the Acquisition data from the data and geometry and permute for ASTRA ProjectionOperator\n",
    "ad = AcquisitionData(geometry=ag, array=data)\n",
    "ad.reorder(order='astra')"
   ]
  },
  {
   "cell_type": "code",
   "execution_count": null,
   "metadata": {},
   "outputs": [],
   "source": [
    "# Data is not centered. Here apply simple centering by cropping cropping data by the centre of rotation offset>\n",
    "ad = Slicer(roi = {'horizontal': (52, None)})(ad)\n",
    "ag = ad.geometry"
   ]
  },
  {
   "cell_type": "code",
   "execution_count": null,
   "metadata": {},
   "outputs": [],
   "source": [
    "# Set up mask for masking out pixels outside the interbal 1e-6 -- 1.\n",
    "mask_generator = MaskGenerator.threshold(min_val=1e-6,max_val=1)\n",
    "mask_generator.input = ad\n",
    "mask = mask_generator.process()"
   ]
  },
  {
   "cell_type": "code",
   "execution_count": null,
   "metadata": {},
   "outputs": [],
   "source": [
    "# Interpolate over masked pixels\n",
    "masker = Masker(mask=mask, mode='interpolate', axis='horizontal', method='linear')\n",
    "ad = masker(ad)"
   ]
  },
  {
   "cell_type": "code",
   "execution_count": null,
   "metadata": {},
   "outputs": [],
   "source": [
    "# Air region in background should be ca 1.0 if properly normalised. Estimate scalar for background \n",
    "# value and use to normalise data.\n",
    "rowtonorm = ad.subset(horizontal=20,force=True)\n",
    "scale = rowtonorm.sum() / rowtonorm.size\n",
    "print(scale)"
   ]
  },
  {
   "cell_type": "code",
   "execution_count": null,
   "metadata": {},
   "outputs": [],
   "source": [
    "ad = ad / scale"
   ]
  },
  {
   "cell_type": "code",
   "execution_count": null,
   "metadata": {},
   "outputs": [],
   "source": [
    "# Apply Lambert-Beer negative log-tranformation\n",
    "converter = TransmissionAbsorptionConverter()\n",
    "ad = converter(ad)"
   ]
  },
  {
   "cell_type": "code",
   "execution_count": null,
   "metadata": {},
   "outputs": [],
   "source": [
    "# Display a sinogram slice\n",
    "plt.figure()\n",
    "show2D(ad.get_slice(vertical=slice_no),cmap='inferno')\n",
    "plt.show()"
   ]
  },
  {
   "cell_type": "code",
   "execution_count": null,
   "metadata": {},
   "outputs": [],
   "source": [
    "# Set default image geometry\n",
    "ig = ag.get_ImageGeometry()"
   ]
  },
  {
   "cell_type": "code",
   "execution_count": null,
   "metadata": {},
   "outputs": [],
   "source": [
    "# Simple FBP reconstruction, 3D volume\n",
    "recon_fbp = FBP(ig, ag, device = 'gpu')(ad)"
   ]
  },
  {
   "cell_type": "code",
   "execution_count": null,
   "metadata": {},
   "outputs": [],
   "source": [
    "# Show horizontal slice of reconstruction\n",
    "plt.figure()\n",
    "show2D(recon_fbp.get_slice(vertical=slice_no),cmap='inferno')\n",
    "plt.show()"
   ]
  },
  {
   "cell_type": "code",
   "execution_count": null,
   "metadata": {},
   "outputs": [],
   "source": [
    "# Extract single 2D dataset for subsequent experiments\n",
    "ad2d = ad.get_slice(vertical=slice_no)"
   ]
  },
  {
   "cell_type": "code",
   "execution_count": null,
   "metadata": {},
   "outputs": [],
   "source": [
    "# Create associated default 2D ImageGeometry\n",
    "ig2d = ad2d.geometry.get_ImageGeometry()"
   ]
  },
  {
   "cell_type": "code",
   "execution_count": null,
   "metadata": {},
   "outputs": [],
   "source": [
    "# Simple 2D FBP reconstruction\n",
    "recon_fbp2d = FBP(ig2d, ad2d.geometry, device = 'gpu')(ad2d)"
   ]
  },
  {
   "cell_type": "code",
   "execution_count": null,
   "metadata": {},
   "outputs": [],
   "source": [
    "# Display 2D FBP reconstruction and mark line for line profiles plots\n",
    "vmin = -0.002\n",
    "vmax =  0.012\n",
    "\n",
    "yline = 89\n",
    "\n",
    "plt.figure()\n",
    "plt.imshow(recon_fbp2d.as_array(),vmin=vmin,vmax=vmax,cmap='inferno')\n",
    "plt.colorbar()\n",
    "plt.plot((0,459),(yline,yline),'-r')"
   ]
  },
  {
   "cell_type": "code",
   "execution_count": null,
   "metadata": {},
   "outputs": [],
   "source": [
    "# Initial guess for iterative methods\n",
    "x0 = ig2d.allocate()"
   ]
  },
  {
   "cell_type": "code",
   "execution_count": null,
   "metadata": {},
   "outputs": [],
   "source": [
    "# 2D Forward operator\n",
    "A2d = ProjectionOperator(ig2d, ad2d.geometry, 'gpu')"
   ]
  },
  {
   "cell_type": "code",
   "execution_count": null,
   "metadata": {},
   "outputs": [],
   "source": [
    "# Set up CGLS algorithm\n",
    "cgls2d = CGLS(x_init=x0, operator=A2d, data=ad2d, tolerance=0, max_iteration=1000)"
   ]
  },
  {
   "cell_type": "code",
   "execution_count": null,
   "metadata": {},
   "outputs": [],
   "source": [
    "# Run specified number of iterations, with verbose printing\n",
    "cgls2d.run(15, verbose=1)"
   ]
  },
  {
   "cell_type": "code",
   "execution_count": null,
   "metadata": {},
   "outputs": [],
   "source": [
    "plt.figure()\n",
    "show2D(cgls2d.solution, fix_range=(vmin,vmax), cmap='inferno')"
   ]
  },
  {
   "cell_type": "code",
   "execution_count": null,
   "metadata": {},
   "outputs": [],
   "source": [
    "# Set up TV regularisation\n",
    "\n",
    "# Define Gradient Operator and BlockOperator \n",
    "Grad = GradientOperator(ig2d)\n",
    "K = BlockOperator(Grad,A2d)\n",
    "\n",
    "# Define BlockFunction F using the MixedL21Norm() and the L2NormSquared()\n",
    "alpha = 1.0\n",
    "f1 =  alpha * MixedL21Norm()\n",
    "f2 = 0.5 * L2NormSquared(b=ad2d)\n",
    "F = BlockFunction(f1,f2)\n",
    "\n",
    "# Define Function G simply as zero\n",
    "G = ZeroFunction()"
   ]
  },
  {
   "cell_type": "code",
   "execution_count": null,
   "metadata": {},
   "outputs": [],
   "source": [
    "# Compute operator norm and choose step-size sigma and tau such that sigma*tau||K||^{2}<1\n",
    "normK =  K.norm()\n",
    "sigma = 1\n",
    "tau = 1/(sigma*normK**2)"
   ]
  },
  {
   "cell_type": "code",
   "execution_count": null,
   "metadata": {},
   "outputs": [],
   "source": [
    "# Set up PDHG Algorithm\n",
    "pdhg = PDHG(f=F, g=G, operator=K, tau=tau, sigma=sigma, \n",
    "            max_iteration=100000, update_objective_interval=10)"
   ]
  },
  {
   "cell_type": "code",
   "execution_count": null,
   "metadata": {},
   "outputs": [],
   "source": [
    "# Run algorithm with extra verbose printing\n",
    "pdhg.run(30000, verbose=2)"
   ]
  },
  {
   "cell_type": "code",
   "execution_count": null,
   "metadata": {},
   "outputs": [],
   "source": [
    "plt.figure()\n",
    "show2D(pdhg.solution, cmap='inferno',fix_range=(vmin,vmax))"
   ]
  },
  {
   "cell_type": "code",
   "execution_count": null,
   "metadata": {},
   "outputs": [],
   "source": [
    "# Set up Smothed TV\n",
    "\n",
    "# Smoothing parameter\n",
    "epsilon = 1e-6\n",
    "\n",
    "# Smooth TV functional\n",
    "Grad = GradientOperator(ig2d)\n",
    "f1gd = OperatorCompositionFunction(alpha*SmoothMixedL21Norm(epsilon), Grad)\n",
    "\n",
    "# Least squares from basic building blocks\n",
    "f2gd = OperatorCompositionFunction(0.5*L2NormSquared(b=ad2d), A2d)\n",
    "\n",
    "# Sum two smooth functionals together\n",
    "objective_function = f1gd  +  f2gd"
   ]
  },
  {
   "cell_type": "code",
   "execution_count": null,
   "metadata": {},
   "outputs": [],
   "source": [
    "# Set algorithm parameters and initialise algorithm\n",
    "step_size = 0.00002\n",
    "x0 = ig2d.allocate()\n",
    "\n",
    "gdbt = GD(x0, objective_function, step_size=None, alpha=1e9, \\\n",
    "          max_iteration = 100000, update_objective_interval = 10)"
   ]
  },
  {
   "cell_type": "code",
   "execution_count": null,
   "metadata": {},
   "outputs": [],
   "source": [
    "gdbt.run(5000, verbose=1)"
   ]
  },
  {
   "cell_type": "code",
   "execution_count": null,
   "metadata": {},
   "outputs": [],
   "source": [
    "plt.figure()\n",
    "show2D(gdbt.solution, cmap='inferno', fix_range=(vmin,vmax))"
   ]
  },
  {
   "cell_type": "code",
   "execution_count": null,
   "metadata": {},
   "outputs": [],
   "source": [
    "#yline = 89\n",
    "xline = 107\n",
    "\n",
    "plt.figure()\n",
    "plt.plot(recon_fbp2d.subset(horizontal_y=yline).as_array(),':',label='FBP ram-lak')\n",
    "plt.plot(pdhg.get_output().subset(horizontal_y=yline).as_array(),'-',label='TV PDHG')\n",
    "plt.plot(gdbt.get_output().subset(horizontal_y=yline).as_array(),'--',label='TV GD')\n",
    "plt.xlabel('Pixel index')\n",
    "plt.ylabel('Intensity')\n",
    "plt.legend()\n",
    "\n",
    "plt.figure()\n",
    "plt.plot(recon_fbp2d.subset(horizontal_x=xline).as_array(),':',label='FBP ram-lak')\n",
    "plt.plot(pdhg.get_output().subset(horizontal_x=xline).as_array(),'-',label='TV PDHG')\n",
    "plt.plot(gdbt.get_output().subset(horizontal_x=xline).as_array(),'--',label='TV GD')\n",
    "plt.xlabel('Pixel index')\n",
    "plt.ylabel('Intensity')\n",
    "plt.legend()"
   ]
  },
  {
   "cell_type": "code",
   "execution_count": null,
   "metadata": {},
   "outputs": [],
   "source": [
    "# Display unsorted and sorted sinogram\n",
    "\n",
    "# Unsorted\n",
    "plt.figure()\n",
    "show2D(ad2d,cmap='inferno')\n",
    "\n",
    "# Sort\n",
    "idx = ad2d.geometry.angles.argsort()\n",
    "\n",
    "# Sorted\n",
    "plt.figure()\n",
    "plt.imshow(ad2d.as_array()[idx,:],cmap='inferno')\n",
    "plt.xlabel('Detector pixel')\n",
    "plt.ylabel('Angle')\n",
    "plt.colorbar(orientation='horizontal')"
   ]
  },
  {
   "cell_type": "code",
   "execution_count": null,
   "metadata": {},
   "outputs": [],
   "source": []
  }
 ],
 "metadata": {
  "kernelspec": {
   "display_name": "Python 3",
   "language": "python",
   "name": "python3"
  },
  "language_info": {
   "codemirror_mode": {
    "name": "ipython"
   },
   "file_extension": ".py",
   "mimetype": "text/x-python",
   "name": "python",
   "nbconvert_exporter": "python"
  }
 },
 "nbformat": 4,
 "nbformat_minor": 4
}
